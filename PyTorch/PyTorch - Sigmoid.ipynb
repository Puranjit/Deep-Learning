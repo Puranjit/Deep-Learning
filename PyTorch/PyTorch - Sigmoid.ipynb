{
 "cells": [
  {
   "cell_type": "markdown",
   "id": "a56a26db",
   "metadata": {},
   "source": [
    "# PyTorch : Sigmoid"
   ]
  },
  {
   "cell_type": "code",
   "execution_count": 1,
   "id": "3f44c496",
   "metadata": {},
   "outputs": [],
   "source": [
    "# Importing library\n",
    "import torch"
   ]
  },
  {
   "cell_type": "markdown",
   "id": "ba4c51ea",
   "metadata": {},
   "source": [
    "Operations on tensors with `requires_grad = true` causes PyTorch to build a Computational graph\n",
    "<br>`Computational Graph` - Data Structures that help solve the gradient problem during back-propagation "
   ]
  },
  {
   "cell_type": "code",
   "execution_count": 2,
   "id": "d57bfa8a",
   "metadata": {},
   "outputs": [],
   "source": [
    "N, D_in, H, D_out = 64, 1000, 100, 10\n",
    "\n",
    "# creating tensors that are used in the network\n",
    "x = torch.randn(N, D_in)\n",
    "y = torch.randn(N, D_out)\n",
    "\n",
    "# Creating tensors with requires_grad = True enables Autograd\n",
    "w1 = torch.randn(D_in, H, requires_grad = True)\n",
    "w2 = torch.randn(H, D_out, requires_grad = True)\n",
    "\n",
    "learning_rate = 1e-6"
   ]
  },
  {
   "cell_type": "markdown",
   "id": "b77a3df4",
   "metadata": {},
   "source": [
    "Defining inputs that are to be used in the network<br>\n",
    "In this network there are 64 inputs with (total) dimensions.size = 1000<br>\n",
    "Total neurons in hidden layers = 100<br>\n",
    "Final clasifying outputs in the final layer = 10<br>\n",
    "<br>\n",
    "We define sigmoid function that would used in epochs for running our neural network"
   ]
  },
  {
   "cell_type": "code",
   "execution_count": 3,
   "id": "803d59b9",
   "metadata": {},
   "outputs": [],
   "source": [
    "def sigmoid(x):\n",
    "    return 1.0/(1.0 + (-x).exp())"
   ]
  },
  {
   "cell_type": "markdown",
   "id": "15e9d7c5",
   "metadata": {},
   "source": [
    "We will run the 500 epoch (complete cycle of one forward and backward propagation) cycle for updating weights in our network t improve its performance by learning  "
   ]
  },
  {
   "cell_type": "code",
   "execution_count": 4,
   "id": "3b40f7e2",
   "metadata": {},
   "outputs": [],
   "source": [
    "for epoch in range(500):\n",
    "# Forward propagation\n",
    "    y_pred = sigmoid(x.mm(w1)).mm(w2)\n",
    "    loss = (y_pred-y).pow(2).sum()    \n",
    "        \n",
    "# Backward propagation\n",
    "    # Computes gradients with respect to all inputs that have requires_grad = True\n",
    "    loss.backward()\n",
    "    \n",
    "    # After above step is completed gradients are stored in w1.grad and w2.grad\n",
    "    with torch.no_grad():\n",
    "        w1 -= learning_rate * w1.grad\n",
    "        w2 -= learning_rate * w2.grad\n",
    "        \n",
    "        # Define w1.grad and w2.grad to 0 for next epoch\n",
    "        w1.grad.zero_()\n",
    "        w2.grad.zero_()"
   ]
  }
 ],
 "metadata": {
  "kernelspec": {
   "display_name": "Python 3",
   "language": "python",
   "name": "python3"
  },
  "language_info": {
   "codemirror_mode": {
    "name": "ipython",
    "version": 3
   },
   "file_extension": ".py",
   "mimetype": "text/x-python",
   "name": "python",
   "nbconvert_exporter": "python",
   "pygments_lexer": "ipython3",
   "version": "3.8.8"
  }
 },
 "nbformat": 4,
 "nbformat_minor": 5
}
