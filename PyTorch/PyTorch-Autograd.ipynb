{
 "cells": [
  {
   "cell_type": "markdown",
   "id": "bba4624a",
   "metadata": {},
   "source": [
    "# PyTorch : Autograd\n",
    "\n",
    "Autograd is reverse automatic differentiation system. Conceptually, autograd records a graph recording all of the operations that created the data as you execute operations, giving you a directed acyclic graph whose leaves are the input tensors and roots are the output tensors."
   ]
  },
  {
   "cell_type": "code",
   "execution_count": 1,
   "id": "b4d191ff",
   "metadata": {},
   "outputs": [],
   "source": [
    "# Importing library\n",
    "import torch"
   ]
  },
  {
   "cell_type": "markdown",
   "id": "e597a7d1",
   "metadata": {},
   "source": [
    "Operations on tensors with `requires_grad = true` causes PyTorch to build a Computational graph\n",
    "<br>`Computational Graph` - Data Structures that help solve the gradient problem during back-propagation "
   ]
  },
  {
   "cell_type": "code",
   "execution_count": 2,
   "id": "ad46619d",
   "metadata": {},
   "outputs": [],
   "source": [
    "N, D_in, H, D_out = 64, 1000, 100, 10\n",
    "\n",
    "# creating tensors that are used in the network\n",
    "x = torch.randn(N, D_in)\n",
    "y = torch.randn(N, D_out)\n",
    "\n",
    "# Creating tensors with requires_grad = True enables Autograd\n",
    "w1 = torch.randn(D_in, H, requires_grad = True)\n",
    "w2 = torch.randn(H, D_out, requires_grad = True)\n",
    "\n",
    "learning_rate = 1e-6"
   ]
  },
  {
   "cell_type": "markdown",
   "id": "21c02fd8",
   "metadata": {},
   "source": [
    "Defining inputs that are to be used in the network<br>\n",
    "In this network there are 64 inputs with (total) dimensions.size = 1000<br>\n",
    "Total neurons in hidden layers = 100<br>\n",
    "Final clasifying outputs in the final layer = 10<br>\n",
    "<br>\n",
    "We will run the 1000 epoch (complete cycle of one forward and backward propagation) cycle for updating weights in our network t improve its performance by learning                             "
   ]
  },
  {
   "cell_type": "code",
   "execution_count": 3,
   "id": "e5fdad27",
   "metadata": {},
   "outputs": [
    {
     "name": "stdout",
     "output_type": "stream",
     "text": [
      "tensor(37507552., grad_fn=<SumBackward0>)\n"
     ]
    }
   ],
   "source": [
    "for epoch in range(1000):\n",
    "# Forward propagation\n",
    "    y_pred = x.mm(w1).clamp(min = 0).mm(w2)\n",
    "    loss = (y_pred-y).pow(2).sum()    \n",
    "    if epoch == 0:\n",
    "        print(loss)\n",
    "        \n",
    "# Backward propagation\n",
    "    # Computes gradients with respect to all inputs that have requires_grad = True\n",
    "    loss.backward()\n",
    "    \n",
    "    # After above step is completed gradients are stored in w1.grad and w2.grad\n",
    "    with torch.no_grad():\n",
    "        w1 -= learning_rate * w1.grad\n",
    "        w2 -= learning_rate * w2.grad\n",
    "        \n",
    "        # Define w1.grad and w2.grad to 0 for next epoch\n",
    "        w1.grad.zero_()\n",
    "        w2.grad.zero_()"
   ]
  },
  {
   "cell_type": "code",
   "execution_count": 4,
   "id": "b615f20a",
   "metadata": {},
   "outputs": [
    {
     "data": {
      "text/plain": [
       "tensor(5.3382e-06, grad_fn=<SumBackward0>)"
      ]
     },
     "execution_count": 4,
     "metadata": {},
     "output_type": "execute_result"
    }
   ],
   "source": [
    "loss"
   ]
  },
  {
   "cell_type": "markdown",
   "id": "930d412a",
   "metadata": {},
   "source": [
    "We can compare that initially the loss was 1e+7 and towards the end loss was reduced to 1e-6 magnitude. This means that Neural network was able to update weights and improve performance over the epochs it ran throughout."
   ]
  },
  {
   "cell_type": "code",
   "execution_count": null,
   "id": "62812bd0",
   "metadata": {},
   "outputs": [],
   "source": []
  }
 ],
 "metadata": {
  "kernelspec": {
   "display_name": "Python 3",
   "language": "python",
   "name": "python3"
  },
  "language_info": {
   "codemirror_mode": {
    "name": "ipython",
    "version": 3
   },
   "file_extension": ".py",
   "mimetype": "text/x-python",
   "name": "python",
   "nbconvert_exporter": "python",
   "pygments_lexer": "ipython3",
   "version": "3.8.8"
  }
 },
 "nbformat": 4,
 "nbformat_minor": 5
}
