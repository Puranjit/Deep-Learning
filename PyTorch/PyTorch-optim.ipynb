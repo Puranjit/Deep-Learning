{
 "cells": [
  {
   "cell_type": "markdown",
   "id": "e4b1d660",
   "metadata": {},
   "source": [
    "# PyTorch : Optim"
   ]
  },
  {
   "cell_type": "code",
   "execution_count": 1,
   "id": "7388cbbc",
   "metadata": {},
   "outputs": [],
   "source": [
    "import torch"
   ]
  },
  {
   "cell_type": "markdown",
   "id": "9b6f854a",
   "metadata": {},
   "source": [
    "Defining inputs for Neural network"
   ]
  },
  {
   "cell_type": "code",
   "execution_count": 2,
   "id": "cb4c44f6",
   "metadata": {},
   "outputs": [],
   "source": [
    "N, D_in, H, D_out = 64, 1000, 100, 10\n",
    "\n",
    "# creating tensors that are used in the network\n",
    "x = torch.randn(N, D_in)\n",
    "y = torch.randn(N, D_out)"
   ]
  },
  {
   "cell_type": "markdown",
   "id": "ee95776b",
   "metadata": {},
   "source": [
    "Defining `Sequential` model using PyTorch for building connected neural network with a non linear activation function : ReLU\n",
    "\n",
    "Object-oriented API: Define model object as a sequence of layers objects, each of which holds weights neurons"
   ]
  },
  {
   "cell_type": "code",
   "execution_count": 3,
   "id": "fdf52133",
   "metadata": {},
   "outputs": [],
   "source": [
    "model = torch.nn.Sequential(\n",
    "            torch.nn.Linear(D_in, H),\n",
    "            torch.nn.ReLU(),\n",
    "            torch.nn.Linear(H, D_out))"
   ]
  },
  {
   "cell_type": "code",
   "execution_count": 4,
   "id": "d12d125a",
   "metadata": {},
   "outputs": [],
   "source": [
    "learning_rate = 1e-4\n",
    "\n",
    "# Using of an Optimizer for different update rules\n",
    "optimizer = torch.optim.Adam(model.parameters(), lr = learning_rate)"
   ]
  },
  {
   "cell_type": "markdown",
   "id": "42f46dbf",
   "metadata": {},
   "source": [
    "We will run the 1000 epoch (complete cycle of one forward and backward propagation) cycle for updating weights in our network t improve its performance by learning"
   ]
  },
  {
   "cell_type": "code",
   "execution_count": 5,
   "id": "0e791d7e",
   "metadata": {},
   "outputs": [],
   "source": [
    "for epoch in range(1000):\n",
    "# Forward propagation - feed data to model and compute loss\n",
    "    y_pred = model(x)\n",
    "    loss = torch.nn.functional.mse_loss(y_pred, y)\n",
    "    \n",
    "# backward propagation\n",
    "    loss.backward()\n",
    "    \n",
    "    # After computing gradients, use optimizer to update and zero gradients\n",
    "    optimizer.step()\n",
    "    optimizer.zero_grad()"
   ]
  }
 ],
 "metadata": {
  "kernelspec": {
   "display_name": "Python 3",
   "language": "python",
   "name": "python3"
  },
  "language_info": {
   "codemirror_mode": {
    "name": "ipython",
    "version": 3
   },
   "file_extension": ".py",
   "mimetype": "text/x-python",
   "name": "python",
   "nbconvert_exporter": "python",
   "pygments_lexer": "ipython3",
   "version": "3.8.8"
  }
 },
 "nbformat": 4,
 "nbformat_minor": 5
}
