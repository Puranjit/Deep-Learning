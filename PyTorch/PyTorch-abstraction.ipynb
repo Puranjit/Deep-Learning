{
 "cells": [
  {
   "cell_type": "markdown",
   "id": "0a6fce72",
   "metadata": {},
   "source": [
    "# PyTorch :  Two layer network\n",
    "\n",
    "A PyTorch module is a neural layer, it inputs and outputs Tensors\n",
    "\n",
    "Modules can contain weights or other modules"
   ]
  },
  {
   "cell_type": "code",
   "execution_count": 1,
   "id": "35111197",
   "metadata": {},
   "outputs": [],
   "source": [
    "import torch"
   ]
  },
  {
   "cell_type": "markdown",
   "id": "8196e0e2",
   "metadata": {},
   "source": [
    "### Define our whole model as a single Module"
   ]
  },
  {
   "cell_type": "code",
   "execution_count": 2,
   "id": "95e4e5f2",
   "metadata": {},
   "outputs": [],
   "source": [
    "class TwoLayerNet(torch.nn.Module):\n",
    "    def __init__(self, D_in, H, D_out):\n",
    "        super(TwoLayerNet, self).__init__()\n",
    "        self.linear1 = torch.nn.Linear(D_in, H)\n",
    "        self.linear2 = torch.nn.Linear(H, D_out)\n",
    "        \n",
    "    def forward(self, x):\n",
    "        h_relu = self.linear1(x).clamp(min = 0)\n",
    "        y_pred = self.linear2(h_relu)\n",
    "        return y_pred"
   ]
  },
  {
   "cell_type": "markdown",
   "id": "229ef504",
   "metadata": {},
   "source": [
    "Defining inputs for our neural network"
   ]
  },
  {
   "cell_type": "code",
   "execution_count": 3,
   "id": "89ded62b",
   "metadata": {},
   "outputs": [],
   "source": [
    "N, D_in, H, D_out = 64, 1000, 100, 10\n",
    "\n",
    "# creating tensors that are used in the network\n",
    "x = torch.randn(N, D_in)\n",
    "y = torch.randn(N, D_out)"
   ]
  },
  {
   "cell_type": "code",
   "execution_count": 4,
   "id": "b351304d",
   "metadata": {},
   "outputs": [],
   "source": [
    "model = TwoLayerNet(D_in, H, D_out)"
   ]
  },
  {
   "cell_type": "code",
   "execution_count": 5,
   "id": "370da657",
   "metadata": {},
   "outputs": [],
   "source": [
    "optimizer = torch.optim.SGD(model.parameters(), lr = 1e-4)"
   ]
  },
  {
   "cell_type": "markdown",
   "id": "af763a22",
   "metadata": {},
   "source": [
    "We will run the 10000 epoch (complete cycle of one forward and backward propagation) cycle for updating weights in our network t improve its performance by learning"
   ]
  },
  {
   "cell_type": "code",
   "execution_count": 6,
   "id": "3d18158f",
   "metadata": {},
   "outputs": [],
   "source": [
    "for epoch in range(10000):\n",
    "# Forward propagation and calculation of loss on the model\n",
    "    y_pred = model(x)\n",
    "    loss = torch.nn.functional.mse_loss(y_pred, y)\n",
    "    \n",
    "# Backward propagation\n",
    "    loss.backward()\n",
    "    optimizer.step()\n",
    "    optimizer.zero_grad()"
   ]
  },
  {
   "cell_type": "code",
   "execution_count": 7,
   "id": "ae5f41e7",
   "metadata": {},
   "outputs": [
    {
     "data": {
      "text/plain": [
       "tensor(0.3960, grad_fn=<MseLossBackward0>)"
      ]
     },
     "execution_count": 7,
     "metadata": {},
     "output_type": "execute_result"
    }
   ],
   "source": [
    "loss"
   ]
  }
 ],
 "metadata": {
  "kernelspec": {
   "display_name": "Python 3",
   "language": "python",
   "name": "python3"
  },
  "language_info": {
   "codemirror_mode": {
    "name": "ipython",
    "version": 3
   },
   "file_extension": ".py",
   "mimetype": "text/x-python",
   "name": "python",
   "nbconvert_exporter": "python",
   "pygments_lexer": "ipython3",
   "version": "3.8.8"
  }
 },
 "nbformat": 4,
 "nbformat_minor": 5
}
