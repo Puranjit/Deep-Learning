{
 "cells": [
  {
   "cell_type": "markdown",
   "id": "f31036c8",
   "metadata": {},
   "source": [
    "# PyTorch : Tensors\n",
    "\n",
    "### This jupyter notebook gives a brief introuction on how to use tensors and to build up a neural network\n",
    "\n",
    "Training a neural network using PyTorch and defined tensor operation"
   ]
  },
  {
   "cell_type": "code",
   "execution_count": 11,
   "id": "7ed94afa",
   "metadata": {},
   "outputs": [],
   "source": [
    "# Importing library\n",
    "import torch"
   ]
  },
  {
   "cell_type": "markdown",
   "id": "02749ba3",
   "metadata": {},
   "source": [
    "We can make use of both `cpu` and `gpu` for running our neural network"
   ]
  },
  {
   "cell_type": "code",
   "execution_count": 12,
   "id": "54eb445e",
   "metadata": {},
   "outputs": [],
   "source": [
    "device = torch.device('cpu')\n",
    "# device = torch.device('cuda:0')"
   ]
  },
  {
   "cell_type": "markdown",
   "id": "a93b0455",
   "metadata": {},
   "source": [
    "Defining inputs that are to be used in the network<br>\n",
    "In this network there are 64 inputs with (total) dimensions.size = 1000<br>\n",
    "Total neurons in hidden layers = 100<br>\n",
    "Final clasifying outputs in the final layer = 10"
   ]
  },
  {
   "cell_type": "code",
   "execution_count": 31,
   "id": "22433f63",
   "metadata": {},
   "outputs": [],
   "source": [
    "N, D_in, H, D_out = 64, 1000, 100, 10\n",
    "\n",
    "# creating tensors that are used in the network\n",
    "x = torch.randn(N, D_in, device = device)\n",
    "y = torch.randn(N, D_out, device = device)\n",
    "\n",
    "w1 = torch.randn(D_in, H, device = device)\n",
    "w2 = torch.randn(H, D_out, device = device)\n",
    "\n",
    "learning_rate = 1e-6"
   ]
  },
  {
   "cell_type": "markdown",
   "id": "dcb3795d",
   "metadata": {},
   "source": [
    "We will run the 1000 epoch (complete cycle of one forward and backward propagation) cycle for updating weights in our network t improve its performance by learning"
   ]
  },
  {
   "cell_type": "code",
   "execution_count": 32,
   "id": "7aad7837",
   "metadata": {},
   "outputs": [
    {
     "name": "stdout",
     "output_type": "stream",
     "text": [
      "tensor(25589016.)\n"
     ]
    }
   ],
   "source": [
    "for epoch in range(7500):\n",
    "# Forward propagation\n",
    "    h = x.mm(w1)\n",
    "    h_relu = h.clamp(min = 0)\n",
    "    y_pred = h_relu.mm(w2)\n",
    "    \n",
    "# Loss prediction\n",
    "    loss = (y_pred - y).pow(2).sum()\n",
    "    if epoch == 0:\n",
    "        print(loss)\n",
    "\n",
    "# Backward propagation\n",
    "    grad_y_pred = 2.0 * (y_pred - y)\n",
    "    grad_w2 = h_relu.t().mm(grad_y_pred)\n",
    "    grad_h_relu = grad_y_pred.mm(w2.t())\n",
    "    grad_h = grad_h_relu.clone()\n",
    "    grad_h[h < 0] = 0\n",
    "    grad_w1 = x.t().mm(grad_h)\n",
    "    \n",
    "# Updating weights\n",
    "    w1 -= learning_rate * grad_w1\n",
    "    w2 -= learning_rate * grad_w2"
   ]
  },
  {
   "cell_type": "code",
   "execution_count": 33,
   "id": "e8b1806c",
   "metadata": {},
   "outputs": [
    {
     "data": {
      "text/plain": [
       "tensor(2.0827e-07)"
      ]
     },
     "execution_count": 33,
     "metadata": {},
     "output_type": "execute_result"
    }
   ],
   "source": [
    "loss"
   ]
  },
  {
   "cell_type": "markdown",
   "id": "8dce31fe",
   "metadata": {},
   "source": [
    "We can compare that initially the loss was 1e+8 and towards the end loss was reduced to 1e-6 magnitude. This means that Neural network was able to update weights and improve performance over the epochs it ran throughout."
   ]
  }
 ],
 "metadata": {
  "kernelspec": {
   "display_name": "Python 3",
   "language": "python",
   "name": "python3"
  },
  "language_info": {
   "codemirror_mode": {
    "name": "ipython",
    "version": 3
   },
   "file_extension": ".py",
   "mimetype": "text/x-python",
   "name": "python",
   "nbconvert_exporter": "python",
   "pygments_lexer": "ipython3",
   "version": "3.8.8"
  }
 },
 "nbformat": 4,
 "nbformat_minor": 5
}
