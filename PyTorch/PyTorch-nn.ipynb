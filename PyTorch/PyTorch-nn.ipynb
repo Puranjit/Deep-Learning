{
 "cells": [
  {
   "cell_type": "markdown",
   "id": "238d9b40",
   "metadata": {},
   "source": [
    "# PyTorch : nn"
   ]
  },
  {
   "cell_type": "code",
   "execution_count": 1,
   "id": "6be7c4a2",
   "metadata": {},
   "outputs": [],
   "source": [
    "import torch"
   ]
  },
  {
   "cell_type": "markdown",
   "id": "7a2f1d5d",
   "metadata": {},
   "source": [
    "Defining inputs for Neural network"
   ]
  },
  {
   "cell_type": "code",
   "execution_count": 2,
   "id": "48ecad86",
   "metadata": {},
   "outputs": [],
   "source": [
    "N, D_in, H, D_out = 64, 1000, 100, 10\n",
    "\n",
    "# creating tensors that are used in the network\n",
    "x = torch.randn(N, D_in)\n",
    "y = torch.randn(N, D_out)"
   ]
  },
  {
   "cell_type": "markdown",
   "id": "a85cc19c",
   "metadata": {},
   "source": [
    "Defining `Sequential` model using PyTorch for building connected neural network with a non linear activation function : ReLU\n",
    "\n",
    "Object-oriented API: Define model object as a sequence of layers objects, each of which holds weights neurons"
   ]
  },
  {
   "cell_type": "code",
   "execution_count": 3,
   "id": "e6f55989",
   "metadata": {},
   "outputs": [],
   "source": [
    "model = torch.nn.Sequential(\n",
    "            torch.nn.Linear(D_in, H),\n",
    "            torch.nn.ReLU(),\n",
    "            torch.nn.Linear(H, D_out))"
   ]
  },
  {
   "cell_type": "markdown",
   "id": "cf640d21",
   "metadata": {},
   "source": [
    "We will run the 1000 epoch (complete cycle of one forward and backward propagation) cycle for updating weights in our network t improve its performance by learning"
   ]
  },
  {
   "cell_type": "code",
   "execution_count": 6,
   "id": "ce212223",
   "metadata": {},
   "outputs": [],
   "source": [
    "learning_rate = 1e-2\n",
    "for epoch in range(1000):\n",
    "# Forward propagation - feed data to model and compute loss\n",
    "    y_pred = model(x)\n",
    "    loss = torch.nn.functional.mse_loss(y_pred, y)\n",
    "    \n",
    "# backward propagation\n",
    "    loss.backward()\n",
    "    \n",
    "    # Make gradient step on each model parameter\n",
    "    with torch.no_grad():\n",
    "        for param in model.parameters():\n",
    "            param -= learning_rate * param.grad\n",
    "    \n",
    "    model.zero_grad()"
   ]
  },
  {
   "cell_type": "code",
   "execution_count": 5,
   "id": "00e3b660",
   "metadata": {},
   "outputs": [
    {
     "data": {
      "text/plain": [
       "tensor(0.0002, grad_fn=<MseLossBackward0>)"
      ]
     },
     "execution_count": 5,
     "metadata": {},
     "output_type": "execute_result"
    }
   ],
   "source": [
    "loss"
   ]
  },
  {
   "cell_type": "code",
   "execution_count": null,
   "id": "aac914ff",
   "metadata": {},
   "outputs": [],
   "source": []
  }
 ],
 "metadata": {
  "kernelspec": {
   "display_name": "Python 3",
   "language": "python",
   "name": "python3"
  },
  "language_info": {
   "codemirror_mode": {
    "name": "ipython",
    "version": 3
   },
   "file_extension": ".py",
   "mimetype": "text/x-python",
   "name": "python",
   "nbconvert_exporter": "python",
   "pygments_lexer": "ipython3",
   "version": "3.8.8"
  }
 },
 "nbformat": 4,
 "nbformat_minor": 5
}
