{
 "cells": [
  {
   "cell_type": "markdown",
   "id": "1e343e5d",
   "metadata": {},
   "source": [
    "# Convolutional Neural Network in Python with Tensorflow.keras\n",
    "\n",
    "You might have already heard of image or facial recognition or self-driving cars. These are real-life implementations of Convolutional Neural Networks (CNNs). In this jupyter notebook, you will learn and understand how to implement these deep, feed-forward artificial neural networks using `Tensorflow`, and how to overcome overfitting using dropout\n",
    "\n",
    "## Convolutional Neural Network : Introduction\n",
    "Machine learning and Deep learning (branch of Computer Science) studies the design of algorithms that can learn. Deep learning is a subfield of machine learning that is inspired by artificial neural networks, which in turn are inspired by biological neural networks.\n",
    "\n",
    "A specific kind of deep neural network is the convolutional network, which is commonly referred to as CNN or ConvNet. It's a deep, feed-forward artificial neural network. Feed-forward neural networks are also called multi-layer perceptrons (MLPs), which are the quintessential deep learning models. The models are called \"feed-forward\" because information flows right through the model. There are no feedback connections in which outputs of the model are fed back into itself.\n",
    "\n",
    "Convolutional neural networks have been one of the most influential innovations in the field of computer vision. They have performed a lot better than traditional computer vision and have produced state-of-the-art results. These neural networks have proven to be successful in many different real-life case studies and applications, like:\n",
    "\n",
    "* Image classification, object detection, segmentation, face recognition;\n",
    "* Self driving cars that leverage CNN based vision systems;\n",
    "* Classification of crystal structure using a convolutional neural network;\n",
    "* And many more, of course!\n",
    "\n",
    "<b>Image Classification </b>- task of taking a certain image as an input and assigning a particular category to it.\n",
    "\n",
    "## Load the data\n",
    "Keras comes with a library called `datasets`, which you can use to load datasets out of the box:"
   ]
  },
  {
   "cell_type": "code",
   "execution_count": 37,
   "id": "a9d874ca",
   "metadata": {},
   "outputs": [],
   "source": [
    "import tensorflow as tf\n",
    "from tensorflow.keras.datasets import fashion_mnist"
   ]
  },
  {
   "cell_type": "code",
   "execution_count": 38,
   "id": "92721cee",
   "metadata": {},
   "outputs": [],
   "source": [
    "(train_X, train_y), (test_X, test_y) = fashion_mnist.load_data()"
   ]
  },
  {
   "cell_type": "markdown",
   "id": "b67587e3",
   "metadata": {},
   "source": [
    "<img src = \"https://res.cloudinary.com/practicaldev/image/fetch/s--s6xGmaZX--/c_imagga_scale,f_auto,fl_progressive,h_900,q_auto,w_1600/https://raw.githubusercontent.com/zalandoresearch/fashion-mnist/master/doc/img/fashion-mnist-sprite.png\"></img>"
   ]
  },
  {
   "cell_type": "markdown",
   "id": "0bb46dd1",
   "metadata": {},
   "source": [
    "## Analyze the data"
   ]
  },
  {
   "cell_type": "code",
   "execution_count": 39,
   "id": "dc58a8cd",
   "metadata": {},
   "outputs": [],
   "source": [
    "import numpy as np\n",
    "from tensorflow.keras.utils import to_categorical\n",
    "\n",
    "import matplotlib.pyplot as plt\n",
    "%matplotlib inline"
   ]
  },
  {
   "cell_type": "code",
   "execution_count": 40,
   "id": "6c199e29",
   "metadata": {},
   "outputs": [
    {
     "name": "stdout",
     "output_type": "stream",
     "text": [
      "Training data shape:  (60000, 28, 28) (60000,)\n",
      "Testingdata shape:  (10000, 28, 28) (10000,)\n"
     ]
    }
   ],
   "source": [
    "print('Training data shape: ', train_X.shape, train_y.shape)\n",
    "print('Testingdata shape: ', test_X.shape, test_y.shape)"
   ]
  },
  {
   "cell_type": "code",
   "execution_count": 41,
   "id": "25d17dbe",
   "metadata": {},
   "outputs": [
    {
     "name": "stdout",
     "output_type": "stream",
     "text": [
      "Total number of outputs:  10\n",
      "Output classes:  [0 1 2 3 4 5 6 7 8 9]\n"
     ]
    }
   ],
   "source": [
    "# Finding the unique number of training labels\n",
    "classes = np.unique(train_y)\n",
    "nclasses = len(classes)\n",
    "\n",
    "print('Total number of outputs: ', nclasses)\n",
    "print('Output classes: ', classes)"
   ]
  },
  {
   "cell_type": "code",
   "execution_count": 42,
   "id": "9c41e557",
   "metadata": {},
   "outputs": [
    {
     "data": {
      "text/plain": [
       "Text(0.5, 1.0, 'Ground truth: 9')"
      ]
     },
     "execution_count": 42,
     "metadata": {},
     "output_type": "execute_result"
    },
    {
     "data": {
      "image/png": "[encoded data removed]",
      "text/plain": [
       "<Figure size 504x504 with 2 Axes>"
      ]
     },
     "metadata": {
      "needs_background": "light"
     },
     "output_type": "display_data"
    }
   ],
   "source": [
    "plt.figure(figsize=[7,7])\n",
    "\n",
    "# Displaying the first image in the training data\n",
    "plt.subplot(121)\n",
    "plt.imshow(train_X[0,:,:], cmap = 'gray')\n",
    "plt.title('Ground truth: {}'.format(train_y[0]))\n",
    "\n",
    "# Displaying the first image in the training data\n",
    "plt.subplot(122)\n",
    "plt.imshow(test_X[0,:,:], cmap = 'gray')\n",
    "plt.title('Ground truth: {}'.format(test_y[0]))"
   ]
  },
  {
   "cell_type": "markdown",
   "id": "b7d6bbaa",
   "metadata": {},
   "source": [
    "## Data pre-processing\n",
    "We need to convert each 28 x 28 image of the train and test set into a matrix of size 28 x 28 x 1 which is fed into the network."
   ]
  },
  {
   "cell_type": "code",
   "execution_count": 43,
   "id": "63df66d7",
   "metadata": {},
   "outputs": [
    {
     "data": {
      "text/plain": [
       "((60000, 28, 28, 1), (10000, 28, 28, 1))"
      ]
     },
     "execution_count": 43,
     "metadata": {},
     "output_type": "execute_result"
    }
   ],
   "source": [
    "train_X = train_X.reshape(-1,28,28,1)\n",
    "test_X = test_X.reshape(-1,28,28,1)\n",
    "train_X.shape, test_X.shape"
   ]
  },
  {
   "cell_type": "markdown",
   "id": "8e1f148b",
   "metadata": {},
   "source": [
    "The data right now is in an int8 format, so before you feed it into the network you need to convert its type to float32, and you also have to rescale the pixel values in range 0 - 1 inclusive."
   ]
  },
  {
   "cell_type": "code",
   "execution_count": 44,
   "id": "07b401de",
   "metadata": {},
   "outputs": [],
   "source": [
    "train_X = train_X.astype('float32')\n",
    "test_X = test_X.astype('float32')\n",
    "train_X = train_X/255.\n",
    "test_X = test_X/255."
   ]
  },
  {
   "cell_type": "code",
   "execution_count": 45,
   "id": "4bf6d728",
   "metadata": {},
   "outputs": [
    {
     "name": "stdout",
     "output_type": "stream",
     "text": [
      "Original label:  9\n",
      "New label in one-hot encoding:  [0. 0. 0. 0. 0. 0. 0. 0. 0. 1.]\n"
     ]
    }
   ],
   "source": [
    "# Change the labels from categorical to one-hot encoding\n",
    "train_Y_one_hot = to_categorical(train_y)\n",
    "test_Y_one_hot = to_categorical(test_y)\n",
    "\n",
    "# Display the change for category label using one-hot encoding\n",
    "print('Original label: ', train_y[0])\n",
    "print('New label in one-hot encoding: ', train_Y_one_hot[0])"
   ]
  },
  {
   "cell_type": "code",
   "execution_count": 46,
   "id": "be96db9c",
   "metadata": {},
   "outputs": [
    {
     "data": {
      "text/plain": [
       "((48000, 28, 28, 1), (48000, 10))"
      ]
     },
     "execution_count": 46,
     "metadata": {},
     "output_type": "execute_result"
    }
   ],
   "source": [
    "from sklearn.model_selection import train_test_split\n",
    "train_X, valid_X, train_label, valid_label = train_test_split(train_X, train_Y_one_hot, test_size=0.2, random_state=13)\n",
    "train_X.shape, train_label.shape"
   ]
  },
  {
   "cell_type": "code",
   "execution_count": 47,
   "id": "f040281a",
   "metadata": {},
   "outputs": [
    {
     "data": {
      "text/plain": [
       "((48000, 28, 28, 1), (12000, 28, 28, 1), (48000, 10), (12000, 10))"
      ]
     },
     "execution_count": 47,
     "metadata": {},
     "output_type": "execute_result"
    }
   ],
   "source": [
    "train_X.shape, valid_X.shape, train_label.shape, valid_label.shape"
   ]
  },
  {
   "cell_type": "markdown",
   "id": "38ad7faa",
   "metadata": {},
   "source": [
    "## The network\n",
    "The images are of size 28 x 28. After convert the image matrix to an array, rescale it between 0 and 1, reshape it so that it's of size 28 x 28 x 1, and feed this as an input to the network\n",
    "We'll use three convolutional layers: \n",
    "* The first layer will have 32-3*3 filters\n",
    "* The second layer will have 64-3*3 filters\n",
    "* The third layer will have 128-3*3 filters\n",
    "\n",
    "In addition, there are 3 max-pooling layers each of size 2*2\n",
    "\n",
    "<img src=\"https://res.cloudinary.com/dyd911kmh/image/upload/f_auto,q_auto:best/v1512486717/fashion-mnist-architecture_htbpsz.png\"\n",
    "    style=\"width:700px; margin: 0 40px 40px 40px;\"></img>\n",
    "    \n",
    "## Model the data\n",
    "Importing all the necessary modules required to train the model"
   ]
  },
  {
   "cell_type": "code",
   "execution_count": 12,
   "id": "546596cf",
   "metadata": {},
   "outputs": [],
   "source": [
    "import tensorflow.keras\n",
    "from tensorflow.keras import layers\n",
    "from tensorflow.keras import Sequential, Input, Model\n",
    "from tensorflow.keras.layers import Dense, Dropout, Flatten\n",
    "from tensorflow.keras.layers import Conv2D, MaxPooling2D\n",
    "from tensorflow.keras.layers import BatchNormalization\n",
    "from tensorflow.keras import activations"
   ]
  },
  {
   "cell_type": "code",
   "execution_count": 13,
   "id": "26906a97",
   "metadata": {},
   "outputs": [],
   "source": [
    "num_classes = 10"
   ]
  },
  {
   "cell_type": "markdown",
   "id": "db345317",
   "metadata": {},
   "source": [
    "## Neural network architecture"
   ]
  },
  {
   "cell_type": "code",
   "execution_count": 14,
   "id": "fbc33b3c",
   "metadata": {},
   "outputs": [],
   "source": [
    "fashion_model = Sequential()\n",
    "\n",
    "fashion_model.add(Conv2D(32, kernel_size=(3,3), activation = 'linear', input_shape = (28,28,1), padding = 'same'))\n",
    "fashion_model.add(layers.Activation(activations.relu))\n",
    "fashion_model.add(MaxPooling2D((2,2), padding = 'same'))\n",
    "\n",
    "fashion_model.add(Conv2D(64, (3,3), activation = 'linear', padding = 'same'))\n",
    "fashion_model.add(layers.Activation(activations.relu))\n",
    "fashion_model.add(MaxPooling2D(pool_size = (2,2), padding = 'same'))\n",
    "\n",
    "fashion_model.add(Conv2D(128, (3,3), activation = 'linear', padding = 'same'))\n",
    "fashion_model.add(layers.Activation(activations.relu))\n",
    "fashion_model.add(MaxPooling2D(pool_size = (2,2), padding = 'same'))\n",
    "\n",
    "fashion_model.add(Flatten())\n",
    "fashion_model.add(Dense(128, activation='linear'))\n",
    "fashion_model.add(layers.Activation(activations.relu))\n",
    "\n",
    "fashion_model.add(Dense(num_classes, activation='softmax'))"
   ]
  },
  {
   "cell_type": "markdown",
   "id": "f051971d",
   "metadata": {},
   "source": [
    "## Compile the model "
   ]
  },
  {
   "cell_type": "code",
   "execution_count": 15,
   "id": "7b6e09ab",
   "metadata": {},
   "outputs": [],
   "source": [
    "fashion_model.compile(loss = tensorflow.keras.losses.categorical_crossentropy, optimizer = tensorflow.keras.optimizers.Adam(), metrics = ['accuracy'])"
   ]
  },
  {
   "cell_type": "code",
   "execution_count": 16,
   "id": "85f608c9",
   "metadata": {},
   "outputs": [
    {
     "name": "stdout",
     "output_type": "stream",
     "text": [
      "Model: \"sequential\"\n",
      "_________________________________________________________________\n",
      "Layer (type)                 Output Shape              Param #   \n",
      "=================================================================\n",
      "conv2d (Conv2D)              (None, 28, 28, 32)        320       \n",
      "_________________________________________________________________\n",
      "activation (Activation)      (None, 28, 28, 32)        0         \n",
      "_________________________________________________________________\n",
      "max_pooling2d (MaxPooling2D) (None, 14, 14, 32)        0         \n",
      "_________________________________________________________________\n",
      "conv2d_1 (Conv2D)            (None, 14, 14, 64)        18496     \n",
      "_________________________________________________________________\n",
      "activation_1 (Activation)    (None, 14, 14, 64)        0         \n",
      "_________________________________________________________________\n",
      "max_pooling2d_1 (MaxPooling2 (None, 7, 7, 64)          0         \n",
      "_________________________________________________________________\n",
      "conv2d_2 (Conv2D)            (None, 7, 7, 128)         73856     \n",
      "_________________________________________________________________\n",
      "activation_2 (Activation)    (None, 7, 7, 128)         0         \n",
      "_________________________________________________________________\n",
      "max_pooling2d_2 (MaxPooling2 (None, 4, 4, 128)         0         \n",
      "_________________________________________________________________\n",
      "flatten (Flatten)            (None, 2048)              0         \n",
      "_________________________________________________________________\n",
      "dense (Dense)                (None, 128)               262272    \n",
      "_________________________________________________________________\n",
      "activation_3 (Activation)    (None, 128)               0         \n",
      "_________________________________________________________________\n",
      "dense_1 (Dense)              (None, 10)                1290      \n",
      "=================================================================\n",
      "Total params: 356,234\n",
      "Trainable params: 356,234\n",
      "Non-trainable params: 0\n",
      "_________________________________________________________________\n"
     ]
    }
   ],
   "source": [
    "fashion_model.summary()"
   ]
  },
  {
   "cell_type": "code",
   "execution_count": 17,
   "id": "2f48fed6",
   "metadata": {},
   "outputs": [
    {
     "name": "stdout",
     "output_type": "stream",
     "text": [
      "Epoch 1/20\n",
      "750/750 [==============================] - 8s 5ms/step - loss: 0.4852 - accuracy: 0.8225 - val_loss: 0.3433 - val_accuracy: 0.8737\n",
      "Epoch 2/20\n",
      "750/750 [==============================] - 4s 5ms/step - loss: 0.2973 - accuracy: 0.8914 - val_loss: 0.2735 - val_accuracy: 0.9005\n",
      "Epoch 3/20\n",
      "750/750 [==============================] - 4s 5ms/step - loss: 0.2482 - accuracy: 0.9093 - val_loss: 0.2686 - val_accuracy: 0.9051\n",
      "Epoch 4/20\n",
      "750/750 [==============================] - 4s 5ms/step - loss: 0.2160 - accuracy: 0.9201 - val_loss: 0.2500 - val_accuracy: 0.9112\n",
      "Epoch 5/20\n",
      "750/750 [==============================] - 4s 6ms/step - loss: 0.1920 - accuracy: 0.9297 - val_loss: 0.2293 - val_accuracy: 0.9168\n",
      "Epoch 6/20\n",
      "750/750 [==============================] - 4s 6ms/step - loss: 0.1704 - accuracy: 0.9368 - val_loss: 0.2283 - val_accuracy: 0.9210\n",
      "Epoch 7/20\n",
      "750/750 [==============================] - 5s 6ms/step - loss: 0.1481 - accuracy: 0.9452 - val_loss: 0.2527 - val_accuracy: 0.9116\n",
      "Epoch 8/20\n",
      "750/750 [==============================] - 4s 6ms/step - loss: 0.1290 - accuracy: 0.9523 - val_loss: 0.2436 - val_accuracy: 0.9219\n",
      "Epoch 9/20\n",
      "750/750 [==============================] - 4s 5ms/step - loss: 0.1105 - accuracy: 0.9587 - val_loss: 0.2477 - val_accuracy: 0.9168\n",
      "Epoch 10/20\n",
      "750/750 [==============================] - 4s 5ms/step - loss: 0.0944 - accuracy: 0.9645 - val_loss: 0.2847 - val_accuracy: 0.9122\n",
      "Epoch 11/20\n",
      "750/750 [==============================] - 4s 5ms/step - loss: 0.0799 - accuracy: 0.9707 - val_loss: 0.2608 - val_accuracy: 0.9230\n",
      "Epoch 12/20\n",
      "750/750 [==============================] - 4s 5ms/step - loss: 0.0702 - accuracy: 0.9736 - val_loss: 0.2877 - val_accuracy: 0.9174\n",
      "Epoch 13/20\n",
      "750/750 [==============================] - 4s 5ms/step - loss: 0.0588 - accuracy: 0.9777 - val_loss: 0.3361 - val_accuracy: 0.9172\n",
      "Epoch 14/20\n",
      "750/750 [==============================] - 4s 5ms/step - loss: 0.0544 - accuracy: 0.9794 - val_loss: 0.3506 - val_accuracy: 0.9222\n",
      "Epoch 15/20\n",
      "750/750 [==============================] - 4s 5ms/step - loss: 0.0486 - accuracy: 0.9820 - val_loss: 0.3534 - val_accuracy: 0.9177\n",
      "Epoch 16/20\n",
      "750/750 [==============================] - 4s 5ms/step - loss: 0.0446 - accuracy: 0.9829 - val_loss: 0.3601 - val_accuracy: 0.9190\n",
      "Epoch 17/20\n",
      "750/750 [==============================] - 4s 5ms/step - loss: 0.0373 - accuracy: 0.9864 - val_loss: 0.3628 - val_accuracy: 0.9188\n",
      "Epoch 18/20\n",
      "750/750 [==============================] - 4s 5ms/step - loss: 0.0362 - accuracy: 0.9865 - val_loss: 0.4076 - val_accuracy: 0.9167\n",
      "Epoch 19/20\n",
      "750/750 [==============================] - 4s 5ms/step - loss: 0.0342 - accuracy: 0.9869 - val_loss: 0.4286 - val_accuracy: 0.9192\n",
      "Epoch 20/20\n",
      "750/750 [==============================] - 4s 5ms/step - loss: 0.0310 - accuracy: 0.9890 - val_loss: 0.4335 - val_accuracy: 0.9181\n"
     ]
    }
   ],
   "source": [
    "fashion_train = fashion_model.fit(train_X, train_label, batch_size = 64, epochs = 20, verbose = 1, validation_data = (valid_X, valid_label))"
   ]
  },
  {
   "cell_type": "markdown",
   "id": "55df2749",
   "metadata": {},
   "source": [
    "Finally! the model was trained on fashion-MNIST for 20 epochs, and by observing the training accuracy and loss, you can say that the model did a good job since after 20 epochs the training accuracy is 99% and the training loss is quite low.\n",
    "\n",
    "However, it looks like the model is overfitting, as the validation loss is 0.4396 and the validation accuracy is 92%. Overfitting gives an intuition that the network has memorized the training data very well but is not guaranteed to work on unseen data, and that is why there is a difference in the training and validation accuracy.\n",
    "\n",
    "## Model evaluation on the Test set"
   ]
  },
  {
   "cell_type": "code",
   "execution_count": 18,
   "id": "5e547732",
   "metadata": {},
   "outputs": [
    {
     "name": "stdout",
     "output_type": "stream",
     "text": [
      "313/313 [==============================] - 1s 3ms/step - loss: 0.4634 - accuracy: 0.9130\n"
     ]
    }
   ],
   "source": [
    "test_eval = fashion_model.evaluate(test_X, test_Y_one_hot, verbose = 1)"
   ]
  },
  {
   "cell_type": "code",
   "execution_count": 19,
   "id": "4548d3bd",
   "metadata": {},
   "outputs": [
    {
     "name": "stdout",
     "output_type": "stream",
     "text": [
      "Test loss:  0.46341192722320557\n",
      "Test accuracy:  0.9129999876022339\n"
     ]
    }
   ],
   "source": [
    "print('Test loss: ', test_eval[0])\n",
    "print('Test accuracy: ', test_eval[1])"
   ]
  },
  {
   "cell_type": "markdown",
   "id": "8026b8bc",
   "metadata": {},
   "source": [
    "Let's put your model evaluation into perspective and plot the accuracy and loss plots between training and validation data:"
   ]
  },
  {
   "cell_type": "code",
   "execution_count": 20,
   "id": "38e61312",
   "metadata": {},
   "outputs": [
    {
     "data": {
      "image/png": "[encoded data removed]",
      "text/plain": [
       "<Figure size 432x288 with 1 Axes>"
      ]
     },
     "metadata": {
      "needs_background": "light"
     },
     "output_type": "display_data"
    },
    {
     "data": {
      "image/png": "[encoded data removed]",
      "text/plain": [
       "<Figure size 432x288 with 1 Axes>"
      ]
     },
     "metadata": {
      "needs_background": "light"
     },
     "output_type": "display_data"
    }
   ],
   "source": [
    "accuracy = fashion_train.history['accuracy']\n",
    "val_accuracy = fashion_train.history['val_accuracy']\n",
    "\n",
    "loss = fashion_train.history['loss']\n",
    "val_loss = fashion_train.history['val_loss']\n",
    "\n",
    "epochs = range(len(accuracy))\n",
    "\n",
    "plt.plot(epochs, accuracy, 'bo', label = 'Training accuracy')\n",
    "plt.plot(epochs, val_accuracy, 'b', label = 'Validation accuracy')\n",
    "plt.title('Training and validation accuracy')\n",
    "plt.legend()\n",
    "\n",
    "plt.figure()\n",
    "plt.plot(epochs, loss, 'bo', label = 'Training loss')\n",
    "plt.plot(epochs, val_loss, 'b', label = 'Validation loss')\n",
    "plt.title('Training and Validation loss')\n",
    "plt.legend()\n",
    "\n",
    "plt.show()"
   ]
  },
  {
   "cell_type": "markdown",
   "id": "5b7aa84c",
   "metadata": {},
   "source": [
    "From the above two plots, you can see that the validation accuracy almost became stagnant after 4-5 epochs and rarely increased at certain epochs. In the beginning, the validation accuracy was linearly increasing with loss, but then it did not increase much.\n",
    "\n",
    "The validation loss shows that this is the sign of overfitting, similar to validation accuracy it linearly decreased but after 4-5 epochs, it started to increase. This means that the model tried to memorize the data and succeeded."
   ]
  },
  {
   "cell_type": "markdown",
   "id": "213aa950",
   "metadata": {},
   "source": [
    "## Adding dropout into the network\n",
    "\n",
    "You can add a dropout layer to overcome the problem of overfitting to some extent. Dropout randomly turns off a fraction of neurons during the training process, reducing the dependency on the training set by some amount."
   ]
  },
  {
   "cell_type": "code",
   "execution_count": 21,
   "id": "56ea23cc",
   "metadata": {},
   "outputs": [],
   "source": [
    "fashion_model = Sequential()\n",
    "\n",
    "fashion_model.add(Conv2D(32, kernel_size=(3,3), activation = 'linear', input_shape = (28,28,1), padding = 'same'))\n",
    "fashion_model.add(layers.Activation(activations.relu))\n",
    "fashion_model.add(MaxPooling2D((2,2), padding = 'same'))\n",
    "fashion_model.add(Dropout(0.25))\n",
    "\n",
    "fashion_model.add(Conv2D(64, (3,3), activation = 'linear', padding = 'same'))\n",
    "fashion_model.add(layers.Activation(activations.relu))\n",
    "fashion_model.add(MaxPooling2D(pool_size = (2,2), padding = 'same'))\n",
    "fashion_model.add(Dropout(0.25))\n",
    "\n",
    "fashion_model.add(Conv2D(128, (3,3), activation = 'linear', padding = 'same'))\n",
    "fashion_model.add(layers.Activation(activations.relu))\n",
    "fashion_model.add(MaxPooling2D(pool_size = (2,2), padding = 'same'))\n",
    "fashion_model.add(Dropout(0.4))\n",
    "\n",
    "fashion_model.add(Flatten())\n",
    "fashion_model.add(Dense(128, activation='relu'))\n",
    "fashion_model.add(layers.Activation(activations.relu))\n",
    "fashion_model.add(Dropout(0.3))\n",
    "\n",
    "fashion_model.add(Dense(num_classes, activation='softmax'))"
   ]
  },
  {
   "cell_type": "code",
   "execution_count": 22,
   "id": "6464327c",
   "metadata": {},
   "outputs": [
    {
     "name": "stdout",
     "output_type": "stream",
     "text": [
      "Model: \"sequential_1\"\n",
      "_________________________________________________________________\n",
      "Layer (type)                 Output Shape              Param #   \n",
      "=================================================================\n",
      "conv2d_3 (Conv2D)            (None, 28, 28, 32)        320       \n",
      "_________________________________________________________________\n",
      "activation_4 (Activation)    (None, 28, 28, 32)        0         \n",
      "_________________________________________________________________\n",
      "max_pooling2d_3 (MaxPooling2 (None, 14, 14, 32)        0         \n",
      "_________________________________________________________________\n",
      "dropout (Dropout)            (None, 14, 14, 32)        0         \n",
      "_________________________________________________________________\n",
      "conv2d_4 (Conv2D)            (None, 14, 14, 64)        18496     \n",
      "_________________________________________________________________\n",
      "activation_5 (Activation)    (None, 14, 14, 64)        0         \n",
      "_________________________________________________________________\n",
      "max_pooling2d_4 (MaxPooling2 (None, 7, 7, 64)          0         \n",
      "_________________________________________________________________\n",
      "dropout_1 (Dropout)          (None, 7, 7, 64)          0         \n",
      "_________________________________________________________________\n",
      "conv2d_5 (Conv2D)            (None, 7, 7, 128)         73856     \n",
      "_________________________________________________________________\n",
      "activation_6 (Activation)    (None, 7, 7, 128)         0         \n",
      "_________________________________________________________________\n",
      "max_pooling2d_5 (MaxPooling2 (None, 4, 4, 128)         0         \n",
      "_________________________________________________________________\n",
      "dropout_2 (Dropout)          (None, 4, 4, 128)         0         \n",
      "_________________________________________________________________\n",
      "flatten_1 (Flatten)          (None, 2048)              0         \n",
      "_________________________________________________________________\n",
      "dense_2 (Dense)              (None, 128)               262272    \n",
      "_________________________________________________________________\n",
      "activation_7 (Activation)    (None, 128)               0         \n",
      "_________________________________________________________________\n",
      "dropout_3 (Dropout)          (None, 128)               0         \n",
      "_________________________________________________________________\n",
      "dense_3 (Dense)              (None, 10)                1290      \n",
      "=================================================================\n",
      "Total params: 356,234\n",
      "Trainable params: 356,234\n",
      "Non-trainable params: 0\n",
      "_________________________________________________________________\n"
     ]
    }
   ],
   "source": [
    "fashion_model.summary()"
   ]
  },
  {
   "cell_type": "code",
   "execution_count": 23,
   "id": "612c5e5e",
   "metadata": {},
   "outputs": [],
   "source": [
    "fashion_model.compile(loss = tensorflow.keras.losses.categorical_crossentropy, optimizer = tensorflow.keras.optimizers.Adam(), metrics = ['accuracy'])"
   ]
  },
  {
   "cell_type": "code",
   "execution_count": 24,
   "id": "8807ee32",
   "metadata": {},
   "outputs": [
    {
     "name": "stdout",
     "output_type": "stream",
     "text": [
      "Epoch 1/20\n",
      "750/750 [==============================] - 5s 6ms/step - loss: 0.6469 - accuracy: 0.7587 - val_loss: 0.3863 - val_accuracy: 0.8588\n",
      "Epoch 2/20\n",
      "750/750 [==============================] - 5s 6ms/step - loss: 0.4072 - accuracy: 0.8513 - val_loss: 0.3445 - val_accuracy: 0.8700\n",
      "Epoch 3/20\n",
      "750/750 [==============================] - 4s 6ms/step - loss: 0.3513 - accuracy: 0.8715 - val_loss: 0.2920 - val_accuracy: 0.8926\n",
      "Epoch 4/20\n",
      "750/750 [==============================] - 5s 6ms/step - loss: 0.3244 - accuracy: 0.8814 - val_loss: 0.2752 - val_accuracy: 0.8987\n",
      "Epoch 5/20\n",
      "750/750 [==============================] - 5s 6ms/step - loss: 0.3007 - accuracy: 0.8894 - val_loss: 0.2750 - val_accuracy: 0.8985\n",
      "Epoch 6/20\n",
      "750/750 [==============================] - 5s 6ms/step - loss: 0.2865 - accuracy: 0.8935 - val_loss: 0.2485 - val_accuracy: 0.9080\n",
      "Epoch 7/20\n",
      "750/750 [==============================] - 5s 6ms/step - loss: 0.2724 - accuracy: 0.8995 - val_loss: 0.2412 - val_accuracy: 0.9101\n",
      "Epoch 8/20\n",
      "750/750 [==============================] - 10s 14ms/step - loss: 0.2611 - accuracy: 0.9032 - val_loss: 0.2331 - val_accuracy: 0.9133\n",
      "Epoch 9/20\n",
      "750/750 [==============================] - 5s 6ms/step - loss: 0.2541 - accuracy: 0.9047 - val_loss: 0.2195 - val_accuracy: 0.9197\n",
      "Epoch 10/20\n",
      "750/750 [==============================] - 5s 6ms/step - loss: 0.2449 - accuracy: 0.9084 - val_loss: 0.2310 - val_accuracy: 0.9155\n",
      "Epoch 11/20\n",
      "750/750 [==============================] - 5s 6ms/step - loss: 0.2434 - accuracy: 0.9095 - val_loss: 0.2314 - val_accuracy: 0.9158\n",
      "Epoch 12/20\n",
      "750/750 [==============================] - 15s 20ms/step - loss: 0.2351 - accuracy: 0.9133 - val_loss: 0.2152 - val_accuracy: 0.9202\n",
      "Epoch 13/20\n",
      "750/750 [==============================] - 5s 7ms/step - loss: 0.2279 - accuracy: 0.9156 - val_loss: 0.2183 - val_accuracy: 0.9206\n",
      "Epoch 14/20\n",
      "750/750 [==============================] - 5s 7ms/step - loss: 0.2268 - accuracy: 0.9145 - val_loss: 0.2113 - val_accuracy: 0.9218\n",
      "Epoch 15/20\n",
      "750/750 [==============================] - 5s 6ms/step - loss: 0.2203 - accuracy: 0.9179 - val_loss: 0.2102 - val_accuracy: 0.9225\n",
      "Epoch 16/20\n",
      "750/750 [==============================] - 5s 7ms/step - loss: 0.2170 - accuracy: 0.9189 - val_loss: 0.2109 - val_accuracy: 0.9241\n",
      "Epoch 17/20\n",
      "750/750 [==============================] - 5s 7ms/step - loss: 0.2127 - accuracy: 0.9202 - val_loss: 0.2057 - val_accuracy: 0.9256\n",
      "Epoch 18/20\n",
      "750/750 [==============================] - 5s 7ms/step - loss: 0.2096 - accuracy: 0.9204 - val_loss: 0.2295 - val_accuracy: 0.9172\n",
      "Epoch 19/20\n",
      "750/750 [==============================] - 5s 7ms/step - loss: 0.2095 - accuracy: 0.9207 - val_loss: 0.2130 - val_accuracy: 0.9209\n",
      "Epoch 20/20\n",
      "750/750 [==============================] - 5s 6ms/step - loss: 0.2077 - accuracy: 0.9219 - val_loss: 0.2045 - val_accuracy: 0.9244\n"
     ]
    }
   ],
   "source": [
    "fashion_train_dropout = fashion_model.fit(train_X, train_label, batch_size = 64, epochs = 20, verbose = 1, validation_data=(valid_X, valid_label), )"
   ]
  },
  {
   "cell_type": "code",
   "execution_count": 25,
   "id": "ba59838e",
   "metadata": {},
   "outputs": [
    {
     "name": "stdout",
     "output_type": "stream",
     "text": [
      "INFO:tensorflow:Assets written to: fashion_model_dropout.h5py\\assets\n"
     ]
    }
   ],
   "source": [
    "fashion_model.save('fashion_model_dropout.h5py')"
   ]
  },
  {
   "cell_type": "markdown",
   "id": "72ade2ca",
   "metadata": {},
   "source": [
    "## Model evaluation on the Test set"
   ]
  },
  {
   "cell_type": "code",
   "execution_count": 26,
   "id": "fcb3c8b5",
   "metadata": {},
   "outputs": [
    {
     "name": "stdout",
     "output_type": "stream",
     "text": [
      "313/313 [==============================] - 1s 3ms/step - loss: 0.2158 - accuracy: 0.9186\n"
     ]
    }
   ],
   "source": [
    "test_eval = fashion_model.evaluate(test_X, test_Y_one_hot, verbose = 1)"
   ]
  },
  {
   "cell_type": "code",
   "execution_count": 28,
   "id": "10917b56",
   "metadata": {},
   "outputs": [
    {
     "name": "stdout",
     "output_type": "stream",
     "text": [
      "Test loss:  0.21580035984516144\n",
      "Test accuracy:  0.9186000227928162\n"
     ]
    }
   ],
   "source": [
    "print('Test loss: ', test_eval[0])\n",
    "print('Test accuracy: ', test_eval[1])"
   ]
  },
  {
   "cell_type": "markdown",
   "id": "e9828e77",
   "metadata": {},
   "source": [
    "Adding Dropout in our model worked, even though the test accuracy did not improve significantly but the test loss decreased compared to the previous results."
   ]
  },
  {
   "cell_type": "code",
   "execution_count": 29,
   "id": "845453ae",
   "metadata": {},
   "outputs": [
    {
     "data": {
      "image/png": "[encoded data removed]",
      "text/plain": [
       "<Figure size 432x288 with 1 Axes>"
      ]
     },
     "metadata": {
      "needs_background": "light"
     },
     "output_type": "display_data"
    },
    {
     "data": {
      "image/png": "[encoded data removed]",
      "text/plain": [
       "<Figure size 432x288 with 1 Axes>"
      ]
     },
     "metadata": {
      "needs_background": "light"
     },
     "output_type": "display_data"
    }
   ],
   "source": [
    "accuracy = fashion_train_dropout.history['accuracy']\n",
    "val_accuracy = fashion_train_dropout.history['val_accuracy']\n",
    "\n",
    "loss = fashion_train_dropout.history['loss']\n",
    "val_loss = fashion_train_dropout.history['val_loss']\n",
    "\n",
    "epochs = range(len(accuracy))\n",
    "\n",
    "plt.plot(epochs, accuracy, 'bo', label = 'Training accuracy')\n",
    "plt.plot(epochs, val_accuracy, 'b', label = 'Validation accuracy')\n",
    "plt.title('Training and validation accuracy')\n",
    "plt.legend()\n",
    "\n",
    "plt.figure()\n",
    "plt.plot(epochs, loss, 'bo', label = 'Training loss')\n",
    "plt.plot(epochs, val_loss, 'b', label = 'Validation loss')\n",
    "plt.title('Training and Validation loss')\n",
    "plt.legend()\n",
    "\n",
    "plt.show()"
   ]
  },
  {
   "cell_type": "markdown",
   "id": "3dcb59ca",
   "metadata": {},
   "source": [
    "Finally, you can see that the validation loss and validation accuracy both are in sync with the training loss and training accuracy. Even though the validation loss and accuracy line are not linear, but it shows that your model is not overfitting: the validation loss is decreasing and not increasing, and there is not much gap between training and validation accuracy.\n",
    "\n",
    "Therefore, you can say that your model's generalization capability became much better since the loss on both test set and validation set was only slightly more compared to the training loss.\n",
    "\n",
    "## Predict labels"
   ]
  },
  {
   "cell_type": "code",
   "execution_count": 30,
   "id": "95e6ec37",
   "metadata": {},
   "outputs": [],
   "source": [
    "predicted_classes = fashion_model.predict(test_X)"
   ]
  },
  {
   "cell_type": "markdown",
   "id": "4c0bffe9",
   "metadata": {},
   "source": [
    "Since the predictions you get are floating point values, it will not be feasible to compare the predicted labels with true test labels. So, you will round off the output which will convert the float values into an integer. Further, you will use `np.argmax()` to select the index number which has a higher value in a row."
   ]
  },
  {
   "cell_type": "code",
   "execution_count": 31,
   "id": "f015ae51",
   "metadata": {},
   "outputs": [
    {
     "data": {
      "text/plain": [
       "((10000,), (10000,))"
      ]
     },
     "execution_count": 31,
     "metadata": {},
     "output_type": "execute_result"
    }
   ],
   "source": [
    "predicted_classes = np.argmax(np.round(predicted_classes), axis = 1)\n",
    "predicted_classes.shape, test_y.shape"
   ]
  },
  {
   "cell_type": "code",
   "execution_count": null,
   "id": "63c2ce0d",
   "metadata": {},
   "outputs": [],
   "source": []
  },
  {
   "cell_type": "code",
   "execution_count": 32,
   "id": "3922cba5",
   "metadata": {},
   "outputs": [
    {
     "name": "stdout",
     "output_type": "stream",
     "text": [
      "Found 9141 correct labels\n"
     ]
    },
    {
     "data": {
      "image/png": "[encoded data removed]",
      "text/plain": [
       "<Figure size 432x288 with 8 Axes>"
      ]
     },
     "metadata": {
      "needs_background": "light"
     },
     "output_type": "display_data"
    }
   ],
   "source": [
    "correct = np.where(predicted_classes == test_y)[0]\n",
    "print('Found %d correct labels'% len(correct))\n",
    "\n",
    "for i, correct in enumerate(correct[:9]):\n",
    "    plt.subplot(3,3,i+1)\n",
    "    plt.imshow(test_X[correct].reshape(28,28), cmap = 'gray', interpolation = 'none')\n",
    "    plt.title(\"Predicted {}, Class {}\".format(predicted_classes[correct], test_y[correct]))\n",
    "    plt.tight_layout()"
   ]
  },
  {
   "cell_type": "code",
   "execution_count": 33,
   "id": "6ac8dd77",
   "metadata": {},
   "outputs": [
    {
     "name": "stdout",
     "output_type": "stream",
     "text": [
      "Found 859 incorrect labels\n"
     ]
    },
    {
     "data": {
      "image/png": "[encoded data removed]",
      "text/plain": [
       "<Figure size 432x288 with 8 Axes>"
      ]
     },
     "metadata": {
      "needs_background": "light"
     },
     "output_type": "display_data"
    }
   ],
   "source": [
    "incorrect = np.where(predicted_classes != test_y)[0]\n",
    "print('Found %d incorrect labels'% len(incorrect))\n",
    "\n",
    "for i, incorrect in enumerate(incorrect[:9]):\n",
    "    plt.subplot(3,3,i+1)\n",
    "    plt.imshow(test_X[incorrect].reshape(28,28), cmap = 'gray', interpolation = 'none')\n",
    "    plt.title(\"Predicted {}, Class {}\".format(predicted_classes[incorrect], test_y[incorrect]))\n",
    "    plt.tight_layout()"
   ]
  },
  {
   "cell_type": "markdown",
   "id": "47935bd5",
   "metadata": {},
   "source": [
    "## Classification report"
   ]
  },
  {
   "cell_type": "code",
   "execution_count": 34,
   "id": "8fc94511",
   "metadata": {},
   "outputs": [
    {
     "name": "stdout",
     "output_type": "stream",
     "text": [
      "              precision    recall  f1-score   support\n",
      "\n",
      "     Class 0       0.75      0.92      0.82      1000\n",
      "     Class 1       1.00      0.98      0.99      1000\n",
      "     Class 2       0.85      0.91      0.88      1000\n",
      "     Class 3       0.92      0.92      0.92      1000\n",
      "     Class 4       0.88      0.84      0.86      1000\n",
      "     Class 5       0.99      0.98      0.99      1000\n",
      "     Class 6       0.86      0.66      0.74      1000\n",
      "     Class 7       0.95      0.98      0.97      1000\n",
      "     Class 8       0.99      0.99      0.99      1000\n",
      "     Class 9       0.98      0.96      0.97      1000\n",
      "\n",
      "    accuracy                           0.91     10000\n",
      "   macro avg       0.92      0.91      0.91     10000\n",
      "weighted avg       0.92      0.91      0.91     10000\n",
      "\n"
     ]
    }
   ],
   "source": [
    "from sklearn.metrics import classification_report\n",
    "\n",
    "target_names = [\"Class {}\".format(i) for i in range(num_classes)]\n",
    "print(classification_report(test_y, predicted_classes, target_names = target_names))"
   ]
  },
  {
   "cell_type": "markdown",
   "id": "fbb7502a",
   "metadata": {},
   "source": [
    "We can see that the classifier is underperforming for class 6 regarding both precision and recall. For class 0 and class 2, the classifier is lacking precision. Also, for class 4, the classifier is slightly lacking both precision and recall."
   ]
  },
  {
   "cell_type": "code",
   "execution_count": null,
   "id": "0702e746",
   "metadata": {},
   "outputs": [],
   "source": []
  }
 ],
 "metadata": {
  "kernelspec": {
   "display_name": "Python 3",
   "language": "python",
   "name": "python3"
  },
  "language_info": {
   "codemirror_mode": {
    "name": "ipython",
    "version": 3
   },
   "file_extension": ".py",
   "mimetype": "text/x-python",
   "name": "python",
   "nbconvert_exporter": "python",
   "pygments_lexer": "ipython3",
   "version": "3.8.8"
  }
 },
 "nbformat": 4,
 "nbformat_minor": 5
}
