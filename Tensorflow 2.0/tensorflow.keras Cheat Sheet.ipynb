{
 "cells": [
  {
   "cell_type": "markdown",
   "id": "a6769efa",
   "metadata": {},
   "source": [
    "# Keras cheat sheet : neural networks in Python\n",
    "Make your own neural networks with this Keras cheat sheet to deep learning in Python for beginners, with code samples.<br>\n",
    "\n",
    "This Jupyter notebook will make you familiar with how you can load datasets from the library itself, preprocess the data, build up a model architecture, and compile, train, and evaluate it. As there is a considerable amount of freedom in how you build up your models, you'll see that the cheat sheet uses some of the simple key code examples of the Keras library that you need to know to get started with building your own neural networks in Python.<br>\n",
    "\n",
    "`Keras` is an API designed for human beings, not machines. Keras follows best practices for reducing cognitive load: it offers consistent & simple APIs, it minimizes the number of user actions required for common use cases, and it provides clear & actionable error messages. It also has extensive documentation and developer guides.\n",
    "\n",
    "Built on top of `TensorFlow 2`, Keras is an industry-strength framework that can scale to large clusters of GPUs or an entire TPU pod.\n",
    "\n",
    "## Data\n",
    "Data needs to be stored as NumPy arrays or as a list of NumPy arrays. Ideally, we split the data in training and test sets, for which we can also resort to the `train_test_split` module of `sklearn.cross_validation`\n",
    "\n",
    "### A basic example"
   ]
  },
  {
   "cell_type": "code",
   "execution_count": 1,
   "id": "073eeb69",
   "metadata": {},
   "outputs": [
    {
     "name": "stdout",
     "output_type": "stream",
     "text": [
      "Epoch 1/20\n",
      "32/32 [==============================] - 1s 3ms/step - loss: 0.7207 - accuracy: 0.4930\n",
      "Epoch 2/20\n",
      "32/32 [==============================] - 0s 3ms/step - loss: 0.7031 - accuracy: 0.5170\n",
      "Epoch 3/20\n",
      "32/32 [==============================] - 0s 3ms/step - loss: 0.6998 - accuracy: 0.5220\n",
      "Epoch 4/20\n",
      "32/32 [==============================] - 0s 3ms/step - loss: 0.6911 - accuracy: 0.5340\n",
      "Epoch 5/20\n",
      "32/32 [==============================] - 0s 3ms/step - loss: 0.6867 - accuracy: 0.5550: 0s - loss: 0.6746 - accuracy: 0.57\n",
      "Epoch 6/20\n",
      "32/32 [==============================] - 0s 3ms/step - loss: 0.6819 - accuracy: 0.5680\n",
      "Epoch 7/20\n",
      "32/32 [==============================] - 0s 3ms/step - loss: 0.6742 - accuracy: 0.5690\n",
      "Epoch 8/20\n",
      "32/32 [==============================] - 0s 3ms/step - loss: 0.6702 - accuracy: 0.5940\n",
      "Epoch 9/20\n",
      "32/32 [==============================] - 0s 3ms/step - loss: 0.6686 - accuracy: 0.6100\n",
      "Epoch 10/20\n",
      "32/32 [==============================] - 0s 3ms/step - loss: 0.6709 - accuracy: 0.5910\n",
      "Epoch 11/20\n",
      "32/32 [==============================] - 0s 3ms/step - loss: 0.6718 - accuracy: 0.5820\n",
      "Epoch 12/20\n",
      "32/32 [==============================] - 0s 3ms/step - loss: 0.6603 - accuracy: 0.6170\n",
      "Epoch 13/20\n",
      "32/32 [==============================] - 0s 3ms/step - loss: 0.6572 - accuracy: 0.6210\n",
      "Epoch 14/20\n",
      "32/32 [==============================] - 0s 3ms/step - loss: 0.6656 - accuracy: 0.5870\n",
      "Epoch 15/20\n",
      "32/32 [==============================] - 0s 3ms/step - loss: 0.6566 - accuracy: 0.6070\n",
      "Epoch 16/20\n",
      "32/32 [==============================] - 0s 3ms/step - loss: 0.6536 - accuracy: 0.6260\n",
      "Epoch 17/20\n",
      "32/32 [==============================] - 0s 3ms/step - loss: 0.6569 - accuracy: 0.6120\n",
      "Epoch 18/20\n",
      "32/32 [==============================] - 0s 3ms/step - loss: 0.6486 - accuracy: 0.6140\n",
      "Epoch 19/20\n",
      "32/32 [==============================] - 0s 3ms/step - loss: 0.6538 - accuracy: 0.6140\n",
      "Epoch 20/20\n",
      "32/32 [==============================] - 0s 3ms/step - loss: 0.6443 - accuracy: 0.6430\n"
     ]
    }
   ],
   "source": [
    "import numpy as np\n",
    "import tensorflow as tf\n",
    "from tensorflow.keras.models import Sequential\n",
    "from tensorflow.keras.layers import Dense\n",
    "\n",
    "data = np.random.random((1000,100))\n",
    "labels = np.random.randint(2, size = (1000,1))\n",
    "\n",
    "model = Sequential()\n",
    "model.add(Dense(32, activation = 'tanh', input_dim = 100))\n",
    "model.add(Dense(1, activation = 'sigmoid'))\n",
    "\n",
    "model.compile(optimizer = 'adam', loss = 'binary_crossentropy', metrics = ['accuracy'])\n",
    "\n",
    "model.fit(data, labels, epochs = 20, verbose = 1, batch_size = 32)\n",
    "\n",
    "predictions = model.predict(data)"
   ]
  },
  {
   "cell_type": "markdown",
   "id": "5bf1db7b",
   "metadata": {},
   "source": [
    "### Keras Datasets that could be used for Deep learning projects"
   ]
  },
  {
   "cell_type": "code",
   "execution_count": 2,
   "id": "cf7d8db2",
   "metadata": {},
   "outputs": [],
   "source": [
    "import tensorflow\n",
    "from tensorflow.keras.datasets import cifar10"
   ]
  },
  {
   "cell_type": "code",
   "execution_count": 3,
   "id": "3005ee14",
   "metadata": {},
   "outputs": [
    {
     "data": {
      "text/plain": [
       "(50000, 1)"
      ]
     },
     "execution_count": 3,
     "metadata": {},
     "output_type": "execute_result"
    }
   ],
   "source": [
    "(x_train, y_train), (x_test, y_test) = cifar10.load_data()\n",
    "num_classes = 10\n",
    "y_train.shape"
   ]
  },
  {
   "cell_type": "markdown",
   "id": "7222a2d8",
   "metadata": {},
   "source": [
    "You can either pick up a dataset online or from your local machine"
   ]
  },
  {
   "cell_type": "markdown",
   "id": "8aa04eb5",
   "metadata": {},
   "source": [
    "## Pre-processing\n",
    "### Sequence padding"
   ]
  },
  {
   "cell_type": "code",
   "execution_count": 4,
   "id": "750a4d3f",
   "metadata": {},
   "outputs": [],
   "source": [
    "from tensorflow.keras.preprocessing import sequence"
   ]
  },
  {
   "cell_type": "markdown",
   "id": "f265eed8",
   "metadata": {},
   "source": [
    "## One-hot encoding"
   ]
  },
  {
   "cell_type": "code",
   "execution_count": 5,
   "id": "f8ef8dbd",
   "metadata": {},
   "outputs": [],
   "source": [
    "from tensorflow.keras.utils import to_categorical\n",
    "\n",
    "y_train = y_train.reshape((50000,))\n",
    "y_test = y_test.reshape((10000,))\n",
    "\n",
    "y_train = to_categorical(y_train, num_classes)\n",
    "y_test = to_categorical(y_test, num_classes)\n",
    "\n"
   ]
  },
  {
   "cell_type": "markdown",
   "id": "7ed9755f",
   "metadata": {},
   "source": [
    "## Train and test sets"
   ]
  },
  {
   "cell_type": "code",
   "execution_count": 6,
   "id": "80ff5ed4",
   "metadata": {},
   "outputs": [
    {
     "data": {
      "text/plain": [
       "(50000, 10)"
      ]
     },
     "execution_count": 6,
     "metadata": {},
     "output_type": "execute_result"
    }
   ],
   "source": [
    "y_train.shape"
   ]
  },
  {
   "cell_type": "code",
   "execution_count": 7,
   "id": "3b84d942",
   "metadata": {},
   "outputs": [
    {
     "data": {
      "text/plain": [
       "((40000, 32, 32, 3), (40000, 10), (10000, 32, 32, 3), (10000, 10))"
      ]
     },
     "execution_count": 7,
     "metadata": {},
     "output_type": "execute_result"
    }
   ],
   "source": [
    "from sklearn.model_selection import train_test_split\n",
    "x_train, y_train, x_valid, y_valid = train_test_split(x_train, y_train, test_size = 0.2, random_state=13)\n",
    "\n",
    "x_train.shape, x_valid.shape, y_train.shape, y_valid.shape"
   ]
  },
  {
   "cell_type": "markdown",
   "id": "cb3f8e2a",
   "metadata": {},
   "source": [
    "## Standardization/Normalization"
   ]
  },
  {
   "cell_type": "markdown",
   "id": "c7a3bc62",
   "metadata": {},
   "source": [
    "## Model Architecture\n",
    "### Sequential model"
   ]
  },
  {
   "cell_type": "code",
   "execution_count": 8,
   "id": "0ebff804",
   "metadata": {},
   "outputs": [],
   "source": [
    "from tensorflow.keras.models import Sequential\n",
    "model = Sequential()"
   ]
  },
  {
   "cell_type": "markdown",
   "id": "f9d16374",
   "metadata": {},
   "source": [
    "## Reshape"
   ]
  },
  {
   "cell_type": "code",
   "execution_count": 9,
   "id": "f598954f",
   "metadata": {},
   "outputs": [
    {
     "data": {
      "text/plain": [
       "((40000, 32, 32, 3), (10000, 32, 32, 3))"
      ]
     },
     "execution_count": 9,
     "metadata": {},
     "output_type": "execute_result"
    }
   ],
   "source": [
    "x_train = x_train.reshape(-1,32,32,3)\n",
    "x_test = x_test.reshape(-1,32,32,3)\n",
    "x_train.shape, x_test.shape"
   ]
  },
  {
   "cell_type": "markdown",
   "id": "8f3c7438",
   "metadata": {},
   "source": [
    "## Convolutional Neural Network"
   ]
  },
  {
   "cell_type": "code",
   "execution_count": 10,
   "id": "cb29a857",
   "metadata": {},
   "outputs": [],
   "source": [
    "from tensorflow.keras.layers import Activation, Conv2D, MaxPooling2D, Flatten, Dropout, Dense\n",
    "model.add(Conv2D(32, (3,3), padding='same', input_shape = x_train.shape[1:]))\n",
    "model.add(Activation('relu'))\n",
    "model.add(Conv2D(32, (3,3)))\n",
    "model.add(Activation('relu'))\n",
    "model.add(MaxPooling2D(pool_size=(2,2)))\n",
    "model.add(Dropout(0.25))\n",
    "model.add(Conv2D(64, (3,3), padding='same'))\n",
    "model.add(Activation('relu'))\n",
    "model.add(Conv2D(64, (3, 3)))\n",
    "model.add(Activation('relu'))\n",
    "model.add(MaxPooling2D(pool_size=(2,2)))\n",
    "model.add(Dropout(0.25))\n",
    "model.add(Flatten())\n",
    "model.add(Dense(512))\n",
    "model.add(Activation('relu'))\n",
    "model.add(Dropout(0.5))\n",
    "model.add(Dense(num_classes))\n",
    "model.add(Activation('softmax'))"
   ]
  },
  {
   "cell_type": "markdown",
   "id": "b9078799",
   "metadata": {},
   "source": [
    "## Inspect model"
   ]
  },
  {
   "cell_type": "code",
   "execution_count": 11,
   "id": "7c8887d2",
   "metadata": {},
   "outputs": [
    {
     "data": {
      "text/plain": [
       "(None, 10)"
      ]
     },
     "execution_count": 11,
     "metadata": {},
     "output_type": "execute_result"
    }
   ],
   "source": [
    "#Model output shape\n",
    "model.output_shape"
   ]
  },
  {
   "cell_type": "code",
   "execution_count": 12,
   "id": "256b42a3",
   "metadata": {},
   "outputs": [
    {
     "name": "stdout",
     "output_type": "stream",
     "text": [
      "Model: \"sequential_1\"\n",
      "_________________________________________________________________\n",
      "Layer (type)                 Output Shape              Param #   \n",
      "=================================================================\n",
      "conv2d (Conv2D)              (None, 32, 32, 32)        896       \n",
      "_________________________________________________________________\n",
      "activation (Activation)      (None, 32, 32, 32)        0         \n",
      "_________________________________________________________________\n",
      "conv2d_1 (Conv2D)            (None, 30, 30, 32)        9248      \n",
      "_________________________________________________________________\n",
      "activation_1 (Activation)    (None, 30, 30, 32)        0         \n",
      "_________________________________________________________________\n",
      "max_pooling2d (MaxPooling2D) (None, 15, 15, 32)        0         \n",
      "_________________________________________________________________\n",
      "dropout (Dropout)            (None, 15, 15, 32)        0         \n",
      "_________________________________________________________________\n",
      "conv2d_2 (Conv2D)            (None, 15, 15, 64)        18496     \n",
      "_________________________________________________________________\n",
      "activation_2 (Activation)    (None, 15, 15, 64)        0         \n",
      "_________________________________________________________________\n",
      "conv2d_3 (Conv2D)            (None, 13, 13, 64)        36928     \n",
      "_________________________________________________________________\n",
      "activation_3 (Activation)    (None, 13, 13, 64)        0         \n",
      "_________________________________________________________________\n",
      "max_pooling2d_1 (MaxPooling2 (None, 6, 6, 64)          0         \n",
      "_________________________________________________________________\n",
      "dropout_1 (Dropout)          (None, 6, 6, 64)          0         \n",
      "_________________________________________________________________\n",
      "flatten (Flatten)            (None, 2304)              0         \n",
      "_________________________________________________________________\n",
      "dense_2 (Dense)              (None, 512)               1180160   \n",
      "_________________________________________________________________\n",
      "activation_4 (Activation)    (None, 512)               0         \n",
      "_________________________________________________________________\n",
      "dropout_2 (Dropout)          (None, 512)               0         \n",
      "_________________________________________________________________\n",
      "dense_3 (Dense)              (None, 10)                5130      \n",
      "_________________________________________________________________\n",
      "activation_5 (Activation)    (None, 10)                0         \n",
      "=================================================================\n",
      "Total params: 1,250,858\n",
      "Trainable params: 1,250,858\n",
      "Non-trainable params: 0\n",
      "_________________________________________________________________\n"
     ]
    }
   ],
   "source": [
    "# Model summary representation\n",
    "model.summary()"
   ]
  },
  {
   "cell_type": "code",
   "execution_count": 13,
   "id": "ae1b1da0",
   "metadata": {},
   "outputs": [],
   "source": [
    "# Model configuration\n",
    "# model.get_config()"
   ]
  },
  {
   "cell_type": "code",
   "execution_count": 14,
   "id": "649abb15",
   "metadata": {},
   "outputs": [],
   "source": [
    "# List all weight tensors in the model\n",
    "# model.get_weights()"
   ]
  },
  {
   "cell_type": "markdown",
   "id": "805ab37c",
   "metadata": {},
   "source": [
    "## Compile model\n",
    "### Multi-Layer Perceptron (MLP)"
   ]
  },
  {
   "cell_type": "code",
   "execution_count": 15,
   "id": "e6ef4a44",
   "metadata": {},
   "outputs": [],
   "source": [
    "# Recurrent Neural Network\n",
    "model.compile(loss = tensorflow.keras.losses.categorical_crossentropy, optimizer = tensorflow.keras.optimizers.Adam(), metrics = ['accuracy'])"
   ]
  },
  {
   "cell_type": "markdown",
   "id": "26c8685b",
   "metadata": {},
   "source": [
    "## Model Training"
   ]
  },
  {
   "cell_type": "code",
   "execution_count": 16,
   "id": "a9597d80",
   "metadata": {},
   "outputs": [
    {
     "name": "stdout",
     "output_type": "stream",
     "text": [
      "Epoch 1/20\n",
      "1250/1250 [==============================] - 10s 7ms/step - loss: 1.8632 - accuracy: 0.3446 - val_loss: 1.4177 - val_accuracy: 0.4883\n",
      "Epoch 2/20\n",
      "1250/1250 [==============================] - 8s 6ms/step - loss: 1.4485 - accuracy: 0.4776 - val_loss: 1.2176 - val_accuracy: 0.5616\n",
      "Epoch 3/20\n",
      "1250/1250 [==============================] - 8s 6ms/step - loss: 1.2945 - accuracy: 0.5381 - val_loss: 1.1550 - val_accuracy: 0.5977\n",
      "Epoch 4/20\n",
      "1250/1250 [==============================] - 8s 6ms/step - loss: 1.2032 - accuracy: 0.5746 - val_loss: 1.0320 - val_accuracy: 0.6304\n",
      "Epoch 5/20\n",
      "1250/1250 [==============================] - 8s 6ms/step - loss: 1.1268 - accuracy: 0.6041 - val_loss: 1.0450 - val_accuracy: 0.6312\n",
      "Epoch 6/20\n",
      "1250/1250 [==============================] - 8s 6ms/step - loss: 1.0793 - accuracy: 0.6220 - val_loss: 0.9375 - val_accuracy: 0.6618\n",
      "Epoch 7/20\n",
      "1250/1250 [==============================] - 8s 6ms/step - loss: 1.0311 - accuracy: 0.6389 - val_loss: 0.9590 - val_accuracy: 0.6655\n",
      "Epoch 8/20\n",
      "1250/1250 [==============================] - 8s 6ms/step - loss: 0.9966 - accuracy: 0.6528 - val_loss: 1.0433 - val_accuracy: 0.6325\n",
      "Epoch 9/20\n",
      "1250/1250 [==============================] - 8s 7ms/step - loss: 0.9676 - accuracy: 0.6655 - val_loss: 0.9184 - val_accuracy: 0.6737\n",
      "Epoch 10/20\n",
      "1250/1250 [==============================] - 8s 7ms/step - loss: 0.9558 - accuracy: 0.6665 - val_loss: 0.9118 - val_accuracy: 0.6836\n",
      "Epoch 11/20\n",
      "1250/1250 [==============================] - 8s 6ms/step - loss: 0.9375 - accuracy: 0.6765 - val_loss: 0.9376 - val_accuracy: 0.6709\n",
      "Epoch 12/20\n",
      "1250/1250 [==============================] - 8s 6ms/step - loss: 0.9092 - accuracy: 0.6844 - val_loss: 0.8434 - val_accuracy: 0.7046\n",
      "Epoch 13/20\n",
      "1250/1250 [==============================] - 8s 6ms/step - loss: 0.8971 - accuracy: 0.6876 - val_loss: 0.8330 - val_accuracy: 0.7059\n",
      "Epoch 14/20\n",
      "1250/1250 [==============================] - 8s 6ms/step - loss: 0.8660 - accuracy: 0.6996 - val_loss: 0.9204 - val_accuracy: 0.6817\n",
      "Epoch 15/20\n",
      "1250/1250 [==============================] - 8s 6ms/step - loss: 0.8607 - accuracy: 0.7028 - val_loss: 0.8595 - val_accuracy: 0.7004\n",
      "Epoch 16/20\n",
      "1250/1250 [==============================] - 8s 6ms/step - loss: 0.8600 - accuracy: 0.7039 - val_loss: 0.8802 - val_accuracy: 0.6927\n",
      "Epoch 17/20\n",
      "1250/1250 [==============================] - 8s 6ms/step - loss: 0.8404 - accuracy: 0.7057 - val_loss: 0.8122 - val_accuracy: 0.7191\n",
      "Epoch 18/20\n",
      "1250/1250 [==============================] - 8s 6ms/step - loss: 0.8243 - accuracy: 0.7141 - val_loss: 0.8821 - val_accuracy: 0.6941\n",
      "Epoch 19/20\n",
      "1250/1250 [==============================] - 8s 6ms/step - loss: 0.8117 - accuracy: 0.7163 - val_loss: 0.8579 - val_accuracy: 0.7023\n",
      "Epoch 20/20\n",
      "1250/1250 [==============================] - 8s 7ms/step - loss: 0.8097 - accuracy: 0.7194 - val_loss: 0.8213 - val_accuracy: 0.7151\n"
     ]
    },
    {
     "data": {
      "text/plain": [
       "<tensorflow.python.keras.callbacks.History at 0x12b0ac5ca60>"
      ]
     },
     "execution_count": 16,
     "metadata": {},
     "output_type": "execute_result"
    }
   ],
   "source": [
    "model.fit(x_train, x_valid, batch_size = 32, epochs = 20, verbose = 1, validation_data = (y_train, y_valid))"
   ]
  },
  {
   "cell_type": "markdown",
   "id": "9deb95c3",
   "metadata": {},
   "source": [
    "### Evaluate your model's performance"
   ]
  },
  {
   "cell_type": "code",
   "execution_count": 17,
   "id": "6c4c40ac",
   "metadata": {},
   "outputs": [
    {
     "name": "stdout",
     "output_type": "stream",
     "text": [
      "313/313 [==============================] - 1s 4ms/step - loss: 0.8427 - accuracy: 0.7140\n"
     ]
    }
   ],
   "source": [
    "score = model.evaluate(x_test, y_test, batch_size = 32)"
   ]
  },
  {
   "cell_type": "markdown",
   "id": "fe94352e",
   "metadata": {},
   "source": [
    "### Prediction"
   ]
  },
  {
   "cell_type": "code",
   "execution_count": 18,
   "id": "d032fe88",
   "metadata": {},
   "outputs": [
    {
     "name": "stderr",
     "output_type": "stream",
     "text": [
      "C:\\Users\\psingh24\\AppData\\Roaming\\Python\\Python38\\site-packages\\tensorflow\\python\\keras\\engine\\sequential.py:455: UserWarning: `model.predict_classes()` is deprecated and will be removed after 2021-01-01. Please use instead:* `np.argmax(model.predict(x), axis=-1)`,   if your model does multi-class classification   (e.g. if it uses a `softmax` last-layer activation).* `(model.predict(x) > 0.5).astype(\"int32\")`,   if your model does binary classification   (e.g. if it uses a `sigmoid` last-layer activation).\n",
      "  warnings.warn('`model.predict_classes()` is deprecated and '\n"
     ]
    },
    {
     "data": {
      "text/plain": [
       "array([3, 8, 8, ..., 5, 1, 7], dtype=int64)"
      ]
     },
     "execution_count": 18,
     "metadata": {},
     "output_type": "execute_result"
    }
   ],
   "source": [
    "model.predict(x_test, batch_size=32)\n",
    "model.predict_classes(x_test, batch_size=32)"
   ]
  },
  {
   "cell_type": "markdown",
   "id": "d1a8dc78",
   "metadata": {},
   "source": [
    "### Save/Reload model"
   ]
  },
  {
   "cell_type": "code",
   "execution_count": 19,
   "id": "67bcf90d",
   "metadata": {},
   "outputs": [],
   "source": [
    "from tensorflow.keras.models import load_model\n",
    "model.save('model_file.h5')\n",
    "my_model = load_model('model_file.h5')"
   ]
  },
  {
   "cell_type": "markdown",
   "id": "4b7eafcb",
   "metadata": {},
   "source": [
    "## Model fine tuning\n",
    "### Optimization parameters"
   ]
  },
  {
   "cell_type": "code",
   "execution_count": 20,
   "id": "d49154e1",
   "metadata": {},
   "outputs": [],
   "source": [
    "from tensorflow.keras.optimizers import RMSprop\n",
    "opt = RMSprop(learning_rate = 1e-4, decay = 1e-6)\n",
    "model.compile(loss = 'categorical_crossentropy', optimizer = opt, metrics = ['accuracy'])"
   ]
  },
  {
   "cell_type": "markdown",
   "id": "135062b0",
   "metadata": {},
   "source": [
    "### Early stopping"
   ]
  },
  {
   "cell_type": "code",
   "execution_count": 21,
   "id": "c1950a29",
   "metadata": {},
   "outputs": [
    {
     "name": "stdout",
     "output_type": "stream",
     "text": [
      "Epoch 1/15\n",
      "1250/1250 [==============================] - 12s 9ms/step - loss: 0.6642 - accuracy: 0.7679 - val_loss: 0.7772 - val_accuracy: 0.7365\n",
      "Epoch 2/15\n",
      "1250/1250 [==============================] - 11s 9ms/step - loss: 0.6252 - accuracy: 0.7826 - val_loss: 0.7751 - val_accuracy: 0.7412\n",
      "Epoch 3/15\n",
      "1250/1250 [==============================] - 12s 10ms/step - loss: 0.6202 - accuracy: 0.7867 - val_loss: 0.7917 - val_accuracy: 0.7388\n",
      "Epoch 4/15\n",
      "1250/1250 [==============================] - 12s 9ms/step - loss: 0.6179 - accuracy: 0.7889 - val_loss: 0.8013 - val_accuracy: 0.7376\n"
     ]
    },
    {
     "data": {
      "text/plain": [
       "<tensorflow.python.keras.callbacks.History at 0x12cd882de20>"
      ]
     },
     "execution_count": 21,
     "metadata": {},
     "output_type": "execute_result"
    }
   ],
   "source": [
    "from tensorflow.keras.callbacks import EarlyStopping\n",
    "early_stopping_monitor = EarlyStopping(patience = 2)\n",
    "model.fit(x_train, x_valid, batch_size=32, epochs = 15, validation_data=(y_train, y_valid), callbacks=[early_stopping_monitor])"
   ]
  },
  {
   "cell_type": "markdown",
   "id": "50fc09a5",
   "metadata": {},
   "source": [
    "Refer to [link](https://keras.io/api/) for more information on the topic"
   ]
  },
  {
   "cell_type": "code",
   "execution_count": null,
   "id": "701e8c3b",
   "metadata": {},
   "outputs": [],
   "source": []
  }
 ],
 "metadata": {
  "kernelspec": {
   "display_name": "Python 3",
   "language": "python",
   "name": "python3"
  },
  "language_info": {
   "codemirror_mode": {
    "name": "ipython",
    "version": 3
   },
   "file_extension": ".py",
   "mimetype": "text/x-python",
   "name": "python",
   "nbconvert_exporter": "python",
   "pygments_lexer": "ipython3",
   "version": "3.8.8"
  }
 },
 "nbformat": 4,
 "nbformat_minor": 5
}
